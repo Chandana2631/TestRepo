{
 "cells": [
  {
   "cell_type": "markdown",
   "id": "e73fbe8c",
   "metadata": {},
   "source": [
    "# 1. Build a Question answering model with Transformers from huggingface."
   ]
  },
  {
   "cell_type": "code",
   "execution_count": 1,
   "id": "c9eddff4",
   "metadata": {},
   "outputs": [
    {
     "name": "stdout",
     "output_type": "stream",
     "text": [
      "Question: What does Hugging Face do?\n",
      "Answer: provides state-of-the-art natural language processing models\n"
     ]
    }
   ],
   "source": [
    "from transformers import pipeline\n",
    "\n",
    "def build_qa_model():\n",
    "    qa_model = pipeline('question-answering', model='distilbert-base-cased-distilled-squad', tokenizer='distilbert-base-cased-distilled-squad')\n",
    "    return qa_model\n",
    "\n",
    "def ask_question(qa_model, context, question):\n",
    "    result = qa_model(context=context, question=question)\n",
    "    return result['answer']\n",
    "\n",
    "context = \"Hugging Face is a company that provides state-of-the-art natural language processing models.\"\n",
    "question = \"What does Hugging Face do?\"\n",
    "\n",
    "qa_model = build_qa_model()\n",
    "answer = ask_question(qa_model, context, question)\n",
    "\n",
    "print(f\"Question: {question}\")\n",
    "print(f\"Answer: {answer}\")"
   ]
  },
  {
   "cell_type": "markdown",
   "id": "bb60f4f1",
   "metadata": {},
   "source": [
    "# 2. Build a Translation model using transformers."
   ]
  },
  {
   "cell_type": "code",
   "execution_count": 2,
   "id": "ee3a86c9",
   "metadata": {},
   "outputs": [
    {
     "name": "stdout",
     "output_type": "stream",
     "text": [
      "Source Text: Hello, how are you?\n",
      "Translated Text: Bonjour, comment allez-vous?\n"
     ]
    }
   ],
   "source": [
    "from transformers import MarianMTModel, MarianTokenizer\n",
    "\n",
    "def build_translation_model(model_name):\n",
    "    model = MarianMTModel.from_pretrained(model_name)\n",
    "    tokenizer = MarianTokenizer.from_pretrained(model_name)\n",
    "    return model, tokenizer\n",
    "\n",
    "def translate_text(model, tokenizer, text, source_lang, target_lang):\n",
    "    input_ids = tokenizer.encode(text, return_tensors=\"pt\")\n",
    "    output_ids = model.generate(input_ids, max_length=50, num_beams=5, early_stopping=True)\n",
    "    translation = tokenizer.decode(output_ids[0], skip_special_tokens=True)\n",
    "    return translation\n",
    "\n",
    "# Example usage:\n",
    "source_lang = \"en\"\n",
    "target_lang = \"fr\"\n",
    "\n",
    "model_name = f'Helsinki-NLP/opus-mt-{source_lang}-{target_lang}'\n",
    "translation_model, translation_tokenizer = build_translation_model(model_name)\n",
    "\n",
    "text_to_translate = \"Hello, how are you?\"\n",
    "translated_text = translate_text(translation_model, translation_tokenizer, text_to_translate, source_lang, target_lang)\n",
    "\n",
    "print(f\"Source Text: {text_to_translate}\")\n",
    "print(f\"Translated Text: {translated_text}\")"
   ]
  }
 ],
 "metadata": {
  "kernelspec": {
   "display_name": "Python 3 (ipykernel)",
   "language": "python",
   "name": "python3"
  },
  "language_info": {
   "codemirror_mode": {
    "name": "ipython",
    "version": 3
   },
   "file_extension": ".py",
   "mimetype": "text/x-python",
   "name": "python",
   "nbconvert_exporter": "python",
   "pygments_lexer": "ipython3",
   "version": "3.11.4"
  }
 },
 "nbformat": 4,
 "nbformat_minor": 5
}
