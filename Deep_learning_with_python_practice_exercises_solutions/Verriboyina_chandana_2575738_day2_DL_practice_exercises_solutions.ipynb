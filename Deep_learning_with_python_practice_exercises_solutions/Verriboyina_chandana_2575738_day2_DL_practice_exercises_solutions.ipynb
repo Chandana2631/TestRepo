{
 "cells": [
  {
   "cell_type": "markdown",
   "id": "2c520996",
   "metadata": {},
   "source": [
    "# CIFAR100 Digit classification model"
   ]
  },
  {
   "cell_type": "code",
   "execution_count": 1,
   "id": "7d2eab19",
   "metadata": {},
   "outputs": [],
   "source": [
    "from __future__ import absolute_import, division, print_function\n",
    "import tensorflow as tf\n",
    "from tensorflow.keras import Model, layers\n",
    "import numpy as np"
   ]
  },
  {
   "cell_type": "code",
   "execution_count": 2,
   "id": "633b9764",
   "metadata": {},
   "outputs": [],
   "source": [
    "num_classes = 10 # total classes (0-9 digits).\n",
    "num_features = 784 # data features (img shape: 28*28).\n",
    "# Training parameters.\n",
    "learning_rate = 0.1\n",
    "training_steps = 2000\n",
    "batch_size = 256\n",
    "display_step = 100\n",
    "# Network parameters.\n",
    "n_hidden_1 = 128 # 1st layer number of neurons.\n",
    "n_hidden_2 = 256 # 2nd layer number of neurons."
   ]
  },
  {
   "cell_type": "code",
   "execution_count": 3,
   "id": "d260508f",
   "metadata": {},
   "outputs": [
    {
     "name": "stdout",
     "output_type": "stream",
     "text": [
      "Epoch 1/2\n",
      "1563/1563 [==============================] - 28s 18ms/step - loss: 3.9628 - accuracy: 0.0952 - val_loss: 3.4448 - val_accuracy: 0.1760\n",
      "Epoch 2/2\n",
      "1563/1563 [==============================] - 27s 17ms/step - loss: 3.2615 - accuracy: 0.2067 - val_loss: 3.0828 - val_accuracy: 0.2460\n",
      "313/313 - 2s - loss: 3.0828 - accuracy: 0.2460 - 2s/epoch - 6ms/step\n",
      "\n",
      "Test accuracy: 0.2460000067949295\n"
     ]
    }
   ],
   "source": [
    "import tensorflow as tf\n",
    "from tensorflow.keras import layers, models\n",
    "from tensorflow.keras.datasets import cifar100\n",
    "from tensorflow.keras.utils import to_categorical\n",
    "\n",
    "# Load CIFAR-100 dataset\n",
    "(x_train, y_train), (x_test, y_test) = cifar100.load_data()\n",
    "\n",
    "# Normalize pixel values to be between 0 and 1\n",
    "x_train, x_test = x_train / 255.0, x_test / 255.0\n",
    "\n",
    "# Convert class vectors to one-hot encoded labels\n",
    "y_train = to_categorical(y_train, 100)\n",
    "y_test = to_categorical(y_test, 100)\n",
    "\n",
    "# Define the model\n",
    "model = models.Sequential([\n",
    "    layers.Conv2D(32, (3, 3), activation='relu', input_shape=(32, 32, 3)),\n",
    "    layers.MaxPooling2D((2, 2)),\n",
    "    layers.Conv2D(64, (3, 3), activation='relu'),\n",
    "    layers.MaxPooling2D((2, 2)),\n",
    "    layers.Conv2D(64, (3, 3), activation='relu'),\n",
    "    layers.Flatten(),\n",
    "    layers.Dense(64, activation='relu'),\n",
    "    layers.Dense(100, activation='softmax')\n",
    "])\n",
    "\n",
    "# Compile the model\n",
    "model.compile(optimizer='adam',\n",
    "              loss='categorical_crossentropy',\n",
    "              metrics=['accuracy'])\n",
    "\n",
    "# Train the model\n",
    "model.fit(x_train, y_train, epochs=2, validation_data=(x_test, y_test))\n",
    "\n",
    "# Evaluate the model on the test set\n",
    "test_loss, test_acc = model.evaluate(x_test, y_test, verbose=2)\n",
    "print(f\"\\nTest accuracy: {test_acc}\")"
   ]
  },
  {
   "cell_type": "code",
   "execution_count": 4,
   "id": "8a603ad2",
   "metadata": {},
   "outputs": [],
   "source": [
    "train_data = tf.data.Dataset.from_tensor_slices((x_train, y_train))\n",
    "train_data = train_data.repeat().shuffle(5000).batch(batch_size).prefetch(1)"
   ]
  },
  {
   "cell_type": "code",
   "execution_count": 5,
   "id": "b826a49b",
   "metadata": {},
   "outputs": [],
   "source": [
    "import tensorflow as tf\n",
    "from tensorflow.keras import layers, models\n",
    "\n",
    "# Assuming n_hidden_1, n_hidden_2, num_classes are defined earlier in your code\n",
    "\n",
    "class NeuralNet(tf.keras.Model):\n",
    "    # Set Layers.\n",
    "    def __init__(self):\n",
    "        super(NeuralNet, self).__init__()\n",
    "\n",
    "        # First fully-connected hidden Layer.\n",
    "        self.fc1 = layers.Dense(n_hidden_1, activation=tf.nn.relu)\n",
    "\n",
    "        # Second fully-connected hidden Layer.\n",
    "        self.fc2 = layers.Dense(n_hidden_2, activation=tf.nn.relu)\n",
    "\n",
    "        # Output layer.\n",
    "        self.out = layers.Dense(num_classes, activation=tf.nn.softmax)\n",
    "\n",
    "    # Set forward pass.\n",
    "    def call(self, x, is_training=False):\n",
    "        x = self.fc1(x)\n",
    "        x = self.fc2(x)\n",
    "        x = self.out(x)\n",
    "\n",
    "        if not is_training:\n",
    "            # tf cross entropy expects logits without softmax,\n",
    "            # so only apply softmax when not training.\n",
    "            x = tf.nn.softmax(x)\n",
    "\n",
    "        return x\n",
    "\n",
    "# Build neural network model.\n",
    "neural_net = NeuralNet()"
   ]
  },
  {
   "cell_type": "code",
   "execution_count": 6,
   "id": "4ee79250",
   "metadata": {},
   "outputs": [],
   "source": [
    "# Cross-Entropy Loss.\n",
    "# Note that this will apply 'softmax' to the logits.\n",
    "import tensorflow as tf\n",
    "\n",
    "# Cross-Entropy Loss\n",
    "def cross_entropy_loss(x, y):\n",
    "    # Convert labels to int64 for tf cross-entropy function.\n",
    "    y = tf.cast(y, tf.int64)\n",
    "\n",
    "    # Apply softmax to logits and compute cross-entropy.\n",
    "    loss = tf.nn.sparse_softmax_cross_entropy_with_logits(labels=y, logits=x)\n",
    "\n",
    "    # Average loss across the batch.\n",
    "    return tf.reduce_mean(loss)\n",
    "\n",
    "# Accuracy Metric\n",
    "def accuracy(y_pred, y_true):\n",
    "    # Predicted class is the index of the highest score in the prediction vector.\n",
    "    correct_prediction = tf.equal(tf.argmax(y_pred, 1), tf.cast(y_true, tf.int64))\n",
    "    return tf.reduce_mean(tf.cast(correct_prediction, tf.float32), axis=-1)\n",
    "\n",
    "# Stochastic Gradient Descent Optimizer\n",
    "optimizer = tf.optimizers.SGD(learning_rate)"
   ]
  },
  {
   "cell_type": "code",
   "execution_count": 7,
   "id": "9702ee12",
   "metadata": {},
   "outputs": [],
   "source": [
    "def run_optimization(x, y):\n",
    "    # Wrap computation inside a GradientTape for automatic differentiation\n",
    "    with tf.GradientTape() as g:\n",
    "        # Forward pass\n",
    "        pred = neural_net(x, is_training=True)\n",
    "\n",
    "        # Compute Loss\n",
    "        loss = cross_entropy_loss(pred, y)\n",
    "\n",
    "    # Variables to update, i.e., trainable variables\n",
    "    trainable_variables = neural_net.trainable_variables\n",
    "\n",
    "    # Compute gradients\n",
    "    gradients = g.gradient(loss, trainable_variables)\n",
    "\n",
    "    # Update W and b following gradients\n",
    "    optimizer.apply_gradients(zip(gradients, trainable_variables))"
   ]
  },
  {
   "cell_type": "code",
   "execution_count": 8,
   "id": "05dff591",
   "metadata": {
    "scrolled": false
   },
   "outputs": [
    {
     "data": {
      "image/png": "[encoded data removed]",
      "text/plain": [
       "<Figure size 640x480 with 1 Axes>"
      ]
     },
     "metadata": {},
     "output_type": "display_data"
    },
    {
     "data": {
      "image/png": "[encoded data removed]",
      "text/plain": [
       "<Figure size 640x480 with 1 Axes>"
      ]
     },
     "metadata": {},
     "output_type": "display_data"
    },
    {
     "data": {
      "image/png": "[encoded data removed]",
      "text/plain": [
       "<Figure size 640x480 with 1 Axes>"
      ]
     },
     "metadata": {},
     "output_type": "display_data"
    },
    {
     "data": {
      "image/png": "[encoded data removed]",
      "text/plain": [
       "<Figure size 640x480 with 1 Axes>"
      ]
     },
     "metadata": {},
     "output_type": "display_data"
    },
    {
     "data": {
      "image/png": "[encoded data removed]",
      "text/plain": [
       "<Figure size 640x480 with 1 Axes>"
      ]
     },
     "metadata": {},
     "output_type": "display_data"
    }
   ],
   "source": [
    "import matplotlib.pyplot as plt\n",
    "import numpy as np\n",
    "\n",
    "# Assuming you have a neural network model named 'neural_net' and the test set 'x_test'\n",
    "n_images = 5\n",
    "test_images = x_test[:n_images]\n",
    "true_labels = y_test[:n_images]\n",
    "\n",
    "# Predictions from the model\n",
    "predictions = neural_net(test_images)\n",
    "\n",
    "# Display images and model predictions\n",
    "for i in range(n_images):\n",
    "    plt.imshow(np.reshape(test_images[i], [32, 32, 3]), cmap='gray')\n",
    "\n",
    "\n",
    "\n",
    "    plt.title(f'True Label: {np.argmax(true_labels[i])}, Predicted Label: {np.argmax(predictions[i].numpy())}')\n",
    "    plt.show()"
   ]
  },
  {
   "cell_type": "code",
   "execution_count": null,
   "id": "ae9de43d",
   "metadata": {},
   "outputs": [],
   "source": []
  },
  {
   "cell_type": "code",
   "execution_count": null,
   "id": "a89387bc",
   "metadata": {},
   "outputs": [],
   "source": []
  },
  {
   "cell_type": "markdown",
   "id": "c42fd6d0",
   "metadata": {},
   "source": [
    "# MNIST Digit classification model"
   ]
  },
  {
   "cell_type": "code",
   "execution_count": 9,
   "id": "a7f0b99a",
   "metadata": {},
   "outputs": [],
   "source": [
    "from __future__ import absolute_import, division, print_function\n",
    "\n",
    "import tensorflow as tf\n",
    "from tensorflow.keras import Model, layers\n",
    "import numpy as np"
   ]
  },
  {
   "cell_type": "code",
   "execution_count": 10,
   "id": "1649d8af",
   "metadata": {},
   "outputs": [],
   "source": [
    "#MNIST dataset parameters\n",
    "num_classes = 10 # total classes (0-9 digits)\n",
    "num_features = 784 # data features (img shape: 28*28)\n",
    "\n",
    "#Training parameters\n",
    "learning_rate = 0.1\n",
    "training_steps = 2000\n",
    "batch_size = 256\n",
    "display_step= 100\n",
    "\n",
    "# Network parameters\n",
    "n_hidden_1 = 128 # 1st Layer number of neurons\n",
    "n_hidden_2 = 256 # 2nd Layer number of neurons"
   ]
  },
  {
   "cell_type": "code",
   "execution_count": 11,
   "id": "b80259f6",
   "metadata": {},
   "outputs": [],
   "source": [
    "# Prepare MNIST data\n",
    "from tensorflow.keras.datasets import mnist\n",
    "import numpy as np  # Don't forget to import numpy\n",
    "\n",
    "(x_train, y_train), (x_test, y_test) = mnist.load_data()\n",
    "\n",
    "# Convert to float32\n",
    "x_train, x_test = np.array(x_train, np.float32), np.array(x_test, np.float32)\n",
    "\n",
    "# Flatten images to 1-D vector of 784 features (28*28)\n",
    "num_features = 28 * 28\n",
    "x_train, x_test = x_train.reshape([-1, num_features]), x_test.reshape([-1, num_features])\n",
    "\n",
    "# Normalize images value from [0, 255] to [0, 1]\n",
    "x_train, x_test = x_train / 255., x_test / 255."
   ]
  },
  {
   "cell_type": "code",
   "execution_count": 12,
   "id": "4c1999a0",
   "metadata": {},
   "outputs": [],
   "source": [
    "# Use tf.data API to shuffle and batch data\n",
    "train_data = tf.data.Dataset.from_tensor_slices((x_train, y_train))\n",
    "train_data = train_data.repeat().shuffle(5000).batch(batch_size).prefetch(tf.data.experimental.AUTOTUNE)"
   ]
  },
  {
   "cell_type": "code",
   "execution_count": 13,
   "id": "26614463",
   "metadata": {},
   "outputs": [],
   "source": [
    "# Create TF Model\n",
    "class NeuralNet(Model):\n",
    "    # Set Layers\n",
    "    def __init__(self):\n",
    "        super (NeuralNet, self).__init__()\n",
    "        # First fully-connected hidden Layer\n",
    "        self.fc1 = layers.Dense(n_hidden_1, activation=tf.nn.relu)\n",
    "        # First fully-connected hidden layer\n",
    "        self.fc2 = layers.Dense(n_hidden_2, activation=tf.nn.relu)\n",
    "        # Second fully-connecter hidden Layer\n",
    "        self.out = layers.Dense(num_classes, activation=tf.nn.softmax)\n",
    "\n",
    "    # Set forward pass\n",
    "    def call(self, x, is_training=False):\n",
    "        x = self.fc1(x)\n",
    "        x = self.out(x)\n",
    "        if not is_training:\n",
    "            #tf cross entropy expect Logits without softmax, so only\n",
    "            # apply softmax when not training\n",
    "            x= tf.nn.softmax(x)\n",
    "        return x\n",
    "\n",
    "# Build neural network model\n",
    "neural_net = NeuralNet()"
   ]
  },
  {
   "cell_type": "code",
   "execution_count": 14,
   "id": "1c0ff905",
   "metadata": {},
   "outputs": [],
   "source": [
    "#Cross-Entropy Loss\n",
    "# Note that this will apply 'softmax' to the Logits\n",
    "def cross_entropy_loss(x, y):\n",
    "    # Convert Labels to int 64 for tf cross-entropy function\n",
    "    y = tf.cast(y, tf.int64)\n",
    "    # Apply softmax to Logits and compute cross-entropy\n",
    "    loss = tf.nn.sparse_softmax_cross_entropy_with_logits(labels=y, logits=x)\n",
    "    #Average Loss across the batch\n",
    "    return tf.reduce_mean(loss)\n",
    "\n",
    "#Accuracy metric\n",
    "def accuracy(y_pred, y_true):\n",
    "    #Predicted class is the index of highest score in prediction vector\n",
    "    correct_prediction = tf.equal(tf.argmax(y_pred, 1), tf.cast(y_true, tf.int64))\n",
    "    return tf.reduce_mean(tf.cast(correct_prediction, tf.float32), axis=-1)\n",
    "                          \n",
    "#Stochastic gradient descent optimizer\n",
    "optimizer = tf.optimizers.SGD(learning_rate)"
   ]
  },
  {
   "cell_type": "code",
   "execution_count": 15,
   "id": "9d8703af",
   "metadata": {},
   "outputs": [],
   "source": [
    "#Optimization process..\n",
    "def run_optimization(x, y):\n",
    "    #wrap computation inside a GradientTape for automatic differentiation \n",
    "    with tf.GradientTape() as g: \n",
    "        # Forward pass\n",
    "        pred = neural_net(x, is_training=True) \n",
    "        #Compute Loss\n",
    "        loss = cross_entropy_loss(pred, y)\n",
    "    \n",
    "    # Variables to update, i.e. trainable variables\n",
    "    trainable_variables = neural_net.trainable_variables\n",
    "    \n",
    "    #Compute gradients\n",
    "    gradients = g.gradient(loss, trainable_variables)\n",
    "    \n",
    "    # Update W and b following gradients\n",
    "    optimizer.apply_gradients (zip(gradients, trainable_variables))"
   ]
  },
  {
   "cell_type": "code",
   "execution_count": 16,
   "id": "f64576ea",
   "metadata": {},
   "outputs": [
    {
     "name": "stdout",
     "output_type": "stream",
     "text": [
      "step: 0, loss: 2.305834, accuracy: 0.113281\n",
      "step: 100, loss: 2.045642, accuracy: 0.527344\n",
      "step: 200, loss: 1.812426, accuracy: 0.742188\n",
      "step: 300, loss: 1.784929, accuracy: 0.742188\n",
      "step: 400, loss: 1.727958, accuracy: 0.785156\n",
      "step: 500, loss: 1.683688, accuracy: 0.832031\n",
      "step: 600, loss: 1.693738, accuracy: 0.808594\n",
      "step: 700, loss: 1.673523, accuracy: 0.816406\n",
      "step: 800, loss: 1.655310, accuracy: 0.824219\n",
      "step: 900, loss: 1.682889, accuracy: 0.804688\n",
      "step: 1000, loss: 1.645624, accuracy: 0.839844\n",
      "step: 1100, loss: 1.671304, accuracy: 0.812500\n",
      "step: 1200, loss: 1.642834, accuracy: 0.832031\n",
      "step: 1300, loss: 1.655259, accuracy: 0.828125\n",
      "step: 1400, loss: 1.652079, accuracy: 0.824219\n",
      "step: 1500, loss: 1.685794, accuracy: 0.785156\n",
      "step: 1600, loss: 1.664114, accuracy: 0.808594\n",
      "step: 1700, loss: 1.663369, accuracy: 0.808594\n",
      "step: 1800, loss: 1.658811, accuracy: 0.816406\n",
      "step: 1900, loss: 1.629128, accuracy: 0.851562\n"
     ]
    }
   ],
   "source": [
    "# Run training for the given number of steps\n",
    "for step, (batch_x, batch_y) in enumerate(train_data.take(training_steps)):\n",
    "    # Run the optimization to update W and b values\n",
    "    run_optimization (batch_x, batch_y)\n",
    "                                          \n",
    "    if step % display_step== 0:\n",
    "        pred = neural_net(batch_x, is_training=True)\n",
    "        loss = cross_entropy_loss(pred, batch_y)\n",
    "        acc = accuracy(pred, batch_y)\n",
    "        print(\"step: %i, loss: %f, accuracy: %f\" % (step, loss, acc))"
   ]
  },
  {
   "cell_type": "code",
   "execution_count": 17,
   "id": "c35186f7",
   "metadata": {},
   "outputs": [
    {
     "name": "stdout",
     "output_type": "stream",
     "text": [
      "Test Accuracy: 0.835000\n"
     ]
    }
   ],
   "source": [
    "#Test model on validation set\n",
    "pred = neural_net(x_test, is_training=False) \n",
    "print(\"Test Accuracy: %f\" % accuracy(pred, y_test))"
   ]
  },
  {
   "cell_type": "code",
   "execution_count": 18,
   "id": "b02b9703",
   "metadata": {},
   "outputs": [],
   "source": [
    "#Visualize predictions\n",
    "import matplotlib.pyplot as plt"
   ]
  },
  {
   "cell_type": "code",
   "execution_count": 19,
   "id": "79148f7b",
   "metadata": {},
   "outputs": [
    {
     "data": {
      "image/png": "[encoded data removed]",
      "text/plain": [
       "<Figure size 640x480 with 1 Axes>"
      ]
     },
     "metadata": {},
     "output_type": "display_data"
    },
    {
     "name": "stdout",
     "output_type": "stream",
     "text": [
      "Model prediction: 7\n"
     ]
    },
    {
     "data": {
      "image/png": "[encoded data removed]",
      "text/plain": [
       "<Figure size 640x480 with 1 Axes>"
      ]
     },
     "metadata": {},
     "output_type": "display_data"
    },
    {
     "name": "stdout",
     "output_type": "stream",
     "text": [
      "Model prediction: 2\n"
     ]
    },
    {
     "data": {
      "image/png": "[encoded data removed]",
      "text/plain": [
       "<Figure size 640x480 with 1 Axes>"
      ]
     },
     "metadata": {},
     "output_type": "display_data"
    },
    {
     "name": "stdout",
     "output_type": "stream",
     "text": [
      "Model prediction: 1\n"
     ]
    },
    {
     "data": {
      "image/png": "[encoded data removed]",
      "text/plain": [
       "<Figure size 640x480 with 1 Axes>"
      ]
     },
     "metadata": {},
     "output_type": "display_data"
    },
    {
     "name": "stdout",
     "output_type": "stream",
     "text": [
      "Model prediction: 0\n"
     ]
    },
    {
     "data": {
      "image/png": "[encoded data removed]",
      "text/plain": [
       "<Figure size 640x480 with 1 Axes>"
      ]
     },
     "metadata": {},
     "output_type": "display_data"
    },
    {
     "name": "stdout",
     "output_type": "stream",
     "text": [
      "Model prediction: 9\n"
     ]
    }
   ],
   "source": [
    "#Predict 5 images from validation set\n",
    "n_images = 5\n",
    "test_images = x_test[:n_images]\n",
    "predictions = neural_net(test_images)\n",
    "\n",
    "# Display image and model prediction\n",
    "for i in range(n_images):\n",
    "    plt.imshow(np.reshape(test_images [i], [28, 28]), cmap='gray') \n",
    "    plt.show()\n",
    "    print(\"Model prediction: %i\" % np.argmax(predictions.numpy()[i]))"
   ]
  },
  {
   "cell_type": "code",
   "execution_count": null,
   "id": "0a290d87",
   "metadata": {},
   "outputs": [],
   "source": []
  },
  {
   "cell_type": "code",
   "execution_count": null,
   "id": "08e31551",
   "metadata": {},
   "outputs": [],
   "source": []
  },
  {
   "cell_type": "code",
   "execution_count": 20,
   "id": "58bcc9d8",
   "metadata": {},
   "outputs": [],
   "source": [
    "%matplotlib inline"
   ]
  },
  {
   "cell_type": "code",
   "execution_count": 21,
   "id": "db274c6b",
   "metadata": {},
   "outputs": [
    {
     "name": "stderr",
     "output_type": "stream",
     "text": [
      "UsageError: Line magic function `%matplotlib inline` not found.\n"
     ]
    }
   ],
   "source": [
    "from IPython.display import Image\n",
    "%matplotlib inline"
   ]
  },
  {
   "cell_type": "markdown",
   "id": "092dfd8a",
   "metadata": {},
   "source": [
    "# What is TensorFlow?"
   ]
  },
  {
   "cell_type": "markdown",
   "id": "6bf3fe4c",
   "metadata": {},
   "source": [
    "# First steps with TensorFlow"
   ]
  },
  {
   "cell_type": "code",
   "execution_count": 22,
   "id": "2593b456",
   "metadata": {},
   "outputs": [
    {
     "name": "stdout",
     "output_type": "stream",
     "text": [
      "x= 1.0 --> z= 2.7\n",
      "x= 0.6 --> z= 1.9\n",
      "x=-1.8 --> z=-2.9\n"
     ]
    }
   ],
   "source": [
    "import tensorflow as tf\n",
    "\n",
    "# create a graph\n",
    "g = tf.Graph()\n",
    "\n",
    "with g.as_default():\n",
    "    x = tf.compat.v1.placeholder(dtype=tf.float32, shape=(None), name='x')\n",
    "    w = tf.Variable(2.0, name='weight')\n",
    "    b = tf.Variable(0.7, name='bias')\n",
    "    z = w * x + b\n",
    "    init = tf.compat.v1.global_variables_initializer()\n",
    "\n",
    "# create a session and pass in graph g\n",
    "with tf.compat.v1.Session(graph=g) as sess:\n",
    "    # initialize w and b:\n",
    "    sess.run(init)\n",
    "\n",
    "    # evaluate z:\n",
    "    for t in [1.0, 0.6, -1.8]:\n",
    "        print('x=%4.1f --> z=%4.1f' % (t, sess.run(z, feed_dict={x: t})))"
   ]
  },
  {
   "cell_type": "code",
   "execution_count": 23,
   "id": "279be962",
   "metadata": {},
   "outputs": [
    {
     "name": "stdout",
     "output_type": "stream",
     "text": [
      "[2.7       4.7       6.8999996]\n"
     ]
    }
   ],
   "source": [
    "with tf.compat.v1.Session(graph=g) as sess:\n",
    "    sess.run(init)\n",
    "    result = sess.run(z, feed_dict={x: [1.0, 2.0, 3.1]})\n",
    "    print(result)"
   ]
  },
  {
   "cell_type": "markdown",
   "id": "5b5c3cc3",
   "metadata": {},
   "source": [
    "# Working with array structures"
   ]
  },
  {
   "cell_type": "code",
   "execution_count": 24,
   "id": "3818e5ed",
   "metadata": {},
   "outputs": [
    {
     "name": "stdout",
     "output_type": "stream",
     "text": [
      "input shape: (3, 2, 3)\n",
      "Reshaped: \n",
      " [[ 0.  1.  2.  3.  4.  5.]\n",
      " [ 6.  7.  8.  9. 10. 11.]\n",
      " [12. 13. 14. 15. 16. 17.]]\n",
      "Column Sums: \n",
      " [18. 21. 24. 27. 30. 33.]\n",
      "Column Means: \n",
      " [ 6.  7.  8.  9. 10. 11.]\n"
     ]
    }
   ],
   "source": [
    "import tensorflow as tf\n",
    "import numpy as np\n",
    "\n",
    "g = tf.Graph()\n",
    "\n",
    "with g.as_default():\n",
    "    x = tf.keras.Input(shape=(2, 3), dtype=tf.float32, name='input_x')\n",
    "    \n",
    "    x2 = tf.reshape(x, shape=(-1, 6), name='x2')\n",
    "\n",
    "    # calculate the sum of each column\n",
    "    xsum = tf.reduce_sum(x2, axis=0, name='col_sum')\n",
    "\n",
    "    # calculate the mean of each column\n",
    "    xmean = tf.reduce_mean(x2, axis=0, name='col_mean')\n",
    "\n",
    "with tf.compat.v1.Session(graph=g) as sess:\n",
    "    x_array = np.arange(18).reshape(3, 2, 3)\n",
    "    print('input shape:', x_array.shape)\n",
    "    print('Reshaped: \\n', sess.run(x2, feed_dict={x: x_array}))\n",
    "    print('Column Sums: \\n', sess.run(xsum, feed_dict={x: x_array}))\n",
    "    print('Column Means: \\n', sess.run(xmean, feed_dict={x: x_array}))"
   ]
  },
  {
   "cell_type": "markdown",
   "id": "43c55798",
   "metadata": {},
   "source": [
    "# Developing a simple model with low-level TensorFlow API"
   ]
  },
  {
   "cell_type": "code",
   "execution_count": 25,
   "id": "8d346d69",
   "metadata": {},
   "outputs": [],
   "source": [
    "import tensorflow as tf\n",
    "\n",
    "import numpy as np\n",
    "\n",
    "X_train = np.arange(10).reshape((10, 1))\n",
    "y_train = np.array([1.0, 1.3, 3.1, 2.0, 5.0, 6.3, 6.6, 7.4, 8.0,9.0])"
   ]
  },
  {
   "cell_type": "code",
   "execution_count": 26,
   "id": "13475b91",
   "metadata": {},
   "outputs": [],
   "source": [
    "class TfLinreg(object):\n",
    "    def __init__(self, x_dim, learning_rate=0.01, random_seed=None):\n",
    "        self.x_dim = x_dim\n",
    "        self.learning_rate = learning_rate\n",
    "        self.g = tf.Graph()\n",
    "\n",
    "        # build the model\n",
    "        with self.g.as_default():\n",
    "            # set graph-level random seed\n",
    "            tf.random.set_seed(random_seed)\n",
    "            self.build()\n",
    "\n",
    "            # create initializer\n",
    "            self.init_op = tf.compat.v1.global_variables_initializer()\n",
    "\n",
    "    def build(self):\n",
    "        # define placeholders for inputs\n",
    "        self.X = tf.compat.v1.placeholder(dtype=tf.float32, shape=(None, self.x_dim), name='x_input')\n",
    "        self.y = tf.compat.v1.placeholder(dtype=tf.float32, shape=(None), name=\"y_input\")\n",
    "        print(self.X)\n",
    "        print(self.y)\n",
    "\n",
    "        # define weight matrix and bias vector\n",
    "        W = tf.Variable(tf.zeros(shape=(1)), name=\"weight\")\n",
    "        b = tf.Variable(tf.zeros(shape=(1)), name=\"bias\")\n",
    "        print(W)\n",
    "        print(b)\n",
    "\n",
    "        self.z_net = tf.squeeze(W * self.X + b, name='z_net')\n",
    "        print(self.z_net)\n",
    "\n",
    "        sqr_errors = tf.square(self.y - self.z_net, name='sqr_errors')\n",
    "        print(sqr_errors)\n",
    "\n",
    "        self.mean_cost = tf.reduce_mean(sqr_errors, name='mean_cost')\n",
    "        optimizer = tf.compat.v1.train.GradientDescentOptimizer(learning_rate=self.learning_rate, name='GradientDescent')\n",
    "        self.optimizer = optimizer.minimize(self.mean_cost)"
   ]
  },
  {
   "cell_type": "code",
   "execution_count": 27,
   "id": "56558474",
   "metadata": {},
   "outputs": [
    {
     "name": "stdout",
     "output_type": "stream",
     "text": [
      "Tensor(\"x_input:0\", shape=(None, 1), dtype=float32)\n",
      "Tensor(\"y_input:0\", dtype=float32)\n",
      "<tf.Variable 'weight:0' shape=(1,) dtype=float32>\n",
      "<tf.Variable 'bias:0' shape=(1,) dtype=float32>\n",
      "Tensor(\"z_net:0\", dtype=float32)\n",
      "Tensor(\"sqr_errors:0\", dtype=float32)\n"
     ]
    }
   ],
   "source": [
    "lrmodel = TfLinreg(x_dim=X_train.shape[1], learning_rate=0.01)"
   ]
  },
  {
   "cell_type": "code",
   "execution_count": 28,
   "id": "b1e250f9",
   "metadata": {},
   "outputs": [],
   "source": [
    "def train_linreg (sess, model, X_train, y_train, num_epochs=10):\n",
    "\n",
    " ## initialiaze all variables: W & b\n",
    "    sess.run(model.init_op)\n",
    "    training_costs = []\n",
    "    for i in range(num_epochs):\n",
    "        _,cost= sess.run([model.optimizer, model.mean_cost], feed_dict={model.X:X_train, model.y:y_train})\n",
    "        training_costs.append(cost)\n",
    "    return training_costs"
   ]
  },
  {
   "cell_type": "code",
   "execution_count": 29,
   "id": "89c8830d",
   "metadata": {},
   "outputs": [],
   "source": [
    "sess = tf.compat.v1.Session(graph=lrmodel.g)\n",
    "training_costs = train_linreg(sess, lrmodel, X_train, y_train)"
   ]
  },
  {
   "cell_type": "code",
   "execution_count": 30,
   "id": "8c2c1e65",
   "metadata": {},
   "outputs": [
    {
     "data": {
      "image/png": "[encoded data removed]",
      "text/plain": [
       "<Figure size 640x480 with 1 Axes>"
      ]
     },
     "metadata": {},
     "output_type": "display_data"
    }
   ],
   "source": [
    "import matplotlib.pyplot as plt\n",
    "\n",
    "plt.plot(range(1,len(training_costs)+ 1), training_costs)\n",
    "plt.tight_layout()\n",
    "plt.xlabel('Epoch')\n",
    "plt.ylabel('Training Cost')\n",
    "plt.show()\n",
    "\n",
    "#plt.savefig(images/13_01.png, dpi-300)"
   ]
  },
  {
   "cell_type": "code",
   "execution_count": 31,
   "id": "e7b93b0d",
   "metadata": {},
   "outputs": [],
   "source": [
    "def predict_linreg (sess, model, X_test):\n",
    "    y_pred = sess.run(model.z_net, feed_dict={model.X:X_test})\n",
    "    return y_pred"
   ]
  },
  {
   "cell_type": "code",
   "execution_count": 32,
   "id": "2cd43e53",
   "metadata": {},
   "outputs": [
    {
     "data": {
      "image/png": "[encoded data removed]",
      "text/plain": [
       "<Figure size 640x480 with 1 Axes>"
      ]
     },
     "metadata": {},
     "output_type": "display_data"
    }
   ],
   "source": [
    "plt.scatter (X_train, y_train, marker='s', s=50, label= 'Training Data')\n",
    "\n",
    "plt.plot(range(X_train.shape[0]), predict_linreg(sess, lrmodel, X_train), color='gray', marker='o', markersize=6, linewidth=3, label='LinReg Model')\n",
    "\n",
    "plt.xlabel('x')\n",
    "plt.ylabel('y')\n",
    "plt.legend()\n",
    "plt.tight_layout()\n",
    "#plt.savefig(images/13_02.png')\n",
    "plt.show()"
   ]
  },
  {
   "cell_type": "code",
   "execution_count": null,
   "id": "f6518d52",
   "metadata": {},
   "outputs": [],
   "source": []
  },
  {
   "cell_type": "code",
   "execution_count": null,
   "id": "c01b8744",
   "metadata": {},
   "outputs": [],
   "source": []
  },
  {
   "cell_type": "markdown",
   "id": "4265cd06",
   "metadata": {},
   "source": [
    "# Keras Sequential API for MNIST digit classification"
   ]
  },
  {
   "cell_type": "code",
   "execution_count": 33,
   "id": "9957cb46",
   "metadata": {},
   "outputs": [],
   "source": [
    "from keras.datasets import mnist\n",
    "from keras.models import Sequential\n",
    "from keras.layers import Dense, Dropout\n",
    "from keras.optimizers import RMSprop"
   ]
  },
  {
   "cell_type": "code",
   "execution_count": 34,
   "id": "e7bab77a",
   "metadata": {},
   "outputs": [],
   "source": [
    "batch_size = 128\n",
    "num_classes = 10\n",
    "epochs = 20"
   ]
  },
  {
   "cell_type": "code",
   "execution_count": 35,
   "id": "f7a4cb3e",
   "metadata": {},
   "outputs": [
    {
     "name": "stdout",
     "output_type": "stream",
     "text": [
      "Shape-x:\t (60000, 28, 28)\n",
      "Shape-y:\t (60000,)\n"
     ]
    }
   ],
   "source": [
    "(xtrain, ytrain),(xtest, ytest) = mnist.load_data()\n",
    "print('Shape-x:\\t', xtrain.shape)\n",
    "print('Shape-y:\\t', ytrain.shape)"
   ]
  },
  {
   "cell_type": "code",
   "execution_count": 36,
   "id": "2f7e8ee7",
   "metadata": {},
   "outputs": [
    {
     "name": "stdout",
     "output_type": "stream",
     "text": [
      "Shape-x-train:\t (60000, 784)\n",
      "Shape-x-test:\t (10000, 784)\n"
     ]
    }
   ],
   "source": [
    "xtrain = xtrain.reshape(60000, 784)\n",
    "xtest = xtest.reshape(10000, 784)\n",
    "print('Shape-x-train:\\t', xtrain.shape)\n",
    "print('Shape-x-test:\\t', xtest.shape)"
   ]
  },
  {
   "cell_type": "code",
   "execution_count": 37,
   "id": "fc9f4b66",
   "metadata": {},
   "outputs": [],
   "source": [
    "xtrain = xtrain.astype('float32')\n",
    "xtest= xtest.astype('float32')"
   ]
  },
  {
   "cell_type": "code",
   "execution_count": 38,
   "id": "7dadead8",
   "metadata": {},
   "outputs": [],
   "source": [
    "xtrain = xtrain/255.\n",
    "xtest = xtest/255."
   ]
  },
  {
   "cell_type": "markdown",
   "id": "4adb1559",
   "metadata": {},
   "source": [
    "# Print the shape of data"
   ]
  },
  {
   "cell_type": "code",
   "execution_count": 39,
   "id": "e75c24d4",
   "metadata": {},
   "outputs": [
    {
     "name": "stdout",
     "output_type": "stream",
     "text": [
      "60000 train samples\n",
      "10000 test samples\n"
     ]
    }
   ],
   "source": [
    "print(xtrain.shape[0], 'train samples')\n",
    "print(xtest.shape[0], 'test samples')"
   ]
  },
  {
   "cell_type": "markdown",
   "id": "1c1eac52",
   "metadata": {},
   "source": [
    "# Convert class vectors to binary class matrices"
   ]
  },
  {
   "cell_type": "code",
   "execution_count": 40,
   "id": "aece3a77",
   "metadata": {},
   "outputs": [],
   "source": [
    "import keras\n",
    "ytrain = keras.utils.to_categorical(ytrain, num_classes)\n",
    "ytest = keras.utils.to_categorical(ytest, num_classes)"
   ]
  },
  {
   "cell_type": "code",
   "execution_count": 41,
   "id": "ebdacdd6",
   "metadata": {},
   "outputs": [
    {
     "data": {
      "text/plain": [
       "(60000, 10)"
      ]
     },
     "execution_count": 41,
     "metadata": {},
     "output_type": "execute_result"
    }
   ],
   "source": [
    "ytrain.shape"
   ]
  },
  {
   "cell_type": "markdown",
   "id": "8f7a318e",
   "metadata": {},
   "source": [
    "# Sequential Model"
   ]
  },
  {
   "cell_type": "code",
   "execution_count": 42,
   "id": "b3c89108",
   "metadata": {},
   "outputs": [
    {
     "name": "stdout",
     "output_type": "stream",
     "text": [
      "Model: \"sequential_1\"\n",
      "_________________________________________________________________\n",
      " Layer (type)                Output Shape              Param #   \n",
      "=================================================================\n",
      " dense_8 (Dense)             (None, 512)               401920    \n",
      "                                                                 \n",
      " dense_9 (Dense)             (None, 512)               262656    \n",
      "                                                                 \n",
      " dense_10 (Dense)            (None, 10)                5130      \n",
      "                                                                 \n",
      "=================================================================\n",
      "Total params: 669706 (2.55 MB)\n",
      "Trainable params: 669706 (2.55 MB)\n",
      "Non-trainable params: 0 (0.00 Byte)\n",
      "_________________________________________________________________\n"
     ]
    }
   ],
   "source": [
    "model = Sequential()\n",
    "model.add(Dense(512, activation = 'relu', input_shape = (784,)))\n",
    "model.add(Dense(512, activation = 'relu'))\n",
    "model.add(Dense(num_classes, activation = 'softmax'))\n",
    "model.summary()"
   ]
  },
  {
   "cell_type": "markdown",
   "id": "26535b71",
   "metadata": {},
   "source": [
    "# Compile the model"
   ]
  },
  {
   "cell_type": "code",
   "execution_count": 43,
   "id": "80ef9f8a",
   "metadata": {},
   "outputs": [],
   "source": [
    "model.compile(loss = 'categorical_crossentropy', optimizer = RMSprop(), metrics = ['accuracy'])"
   ]
  },
  {
   "cell_type": "markdown",
   "id": "b48ce52e",
   "metadata": {},
   "source": [
    "# Fit the model"
   ]
  },
  {
   "cell_type": "code",
   "execution_count": 44,
   "id": "9b959ff0",
   "metadata": {},
   "outputs": [
    {
     "name": "stdout",
     "output_type": "stream",
     "text": [
      "Epoch 1/20\n",
      "469/469 - 5s - loss: 0.2262 - accuracy: 0.9303 - val_loss: 0.1077 - val_accuracy: 0.9662 - 5s/epoch - 10ms/step\n",
      "Epoch 2/20\n",
      "469/469 - 4s - loss: 0.0821 - accuracy: 0.9749 - val_loss: 0.0945 - val_accuracy: 0.9719 - 4s/epoch - 9ms/step\n",
      "Epoch 3/20\n",
      "469/469 - 4s - loss: 0.0526 - accuracy: 0.9833 - val_loss: 0.0761 - val_accuracy: 0.9766 - 4s/epoch - 9ms/step\n",
      "Epoch 4/20\n",
      "469/469 - 4s - loss: 0.0367 - accuracy: 0.9877 - val_loss: 0.0743 - val_accuracy: 0.9782 - 4s/epoch - 9ms/step\n",
      "Epoch 5/20\n",
      "469/469 - 4s - loss: 0.0258 - accuracy: 0.9918 - val_loss: 0.0610 - val_accuracy: 0.9812 - 4s/epoch - 9ms/step\n",
      "Epoch 6/20\n",
      "469/469 - 4s - loss: 0.0200 - accuracy: 0.9934 - val_loss: 0.0728 - val_accuracy: 0.9815 - 4s/epoch - 9ms/step\n",
      "Epoch 7/20\n",
      "469/469 - 4s - loss: 0.0146 - accuracy: 0.9952 - val_loss: 0.0665 - val_accuracy: 0.9838 - 4s/epoch - 9ms/step\n",
      "Epoch 8/20\n",
      "469/469 - 4s - loss: 0.0115 - accuracy: 0.9959 - val_loss: 0.0863 - val_accuracy: 0.9802 - 4s/epoch - 9ms/step\n",
      "Epoch 9/20\n",
      "469/469 - 4s - loss: 0.0097 - accuracy: 0.9971 - val_loss: 0.0854 - val_accuracy: 0.9819 - 4s/epoch - 9ms/step\n",
      "Epoch 10/20\n",
      "469/469 - 4s - loss: 0.0071 - accuracy: 0.9977 - val_loss: 0.0860 - val_accuracy: 0.9818 - 4s/epoch - 9ms/step\n",
      "Epoch 11/20\n",
      "469/469 - 5s - loss: 0.0043 - accuracy: 0.9986 - val_loss: 0.0863 - val_accuracy: 0.9831 - 5s/epoch - 10ms/step\n",
      "Epoch 12/20\n",
      "469/469 - 4s - loss: 0.0036 - accuracy: 0.9988 - val_loss: 0.0928 - val_accuracy: 0.9836 - 4s/epoch - 9ms/step\n",
      "Epoch 13/20\n",
      "469/469 - 4s - loss: 0.0044 - accuracy: 0.9987 - val_loss: 0.0896 - val_accuracy: 0.9838 - 4s/epoch - 9ms/step\n",
      "Epoch 14/20\n",
      "469/469 - 4s - loss: 0.0025 - accuracy: 0.9992 - val_loss: 0.0924 - val_accuracy: 0.9837 - 4s/epoch - 9ms/step\n",
      "Epoch 15/20\n",
      "469/469 - 5s - loss: 0.0019 - accuracy: 0.9994 - val_loss: 0.0917 - val_accuracy: 0.9835 - 5s/epoch - 10ms/step\n",
      "Epoch 16/20\n",
      "469/469 - 4s - loss: 0.0024 - accuracy: 0.9992 - val_loss: 0.1001 - val_accuracy: 0.9832 - 4s/epoch - 9ms/step\n",
      "Epoch 17/20\n",
      "469/469 - 4s - loss: 0.0018 - accuracy: 0.9994 - val_loss: 0.1047 - val_accuracy: 0.9829 - 4s/epoch - 9ms/step\n",
      "Epoch 18/20\n",
      "469/469 - 4s - loss: 7.7503e-04 - accuracy: 0.9998 - val_loss: 0.0933 - val_accuracy: 0.9845 - 4s/epoch - 9ms/step\n",
      "Epoch 19/20\n",
      "469/469 - 4s - loss: 2.8754e-04 - accuracy: 0.9999 - val_loss: 0.0919 - val_accuracy: 0.9846 - 4s/epoch - 9ms/step\n",
      "Epoch 20/20\n",
      "469/469 - 4s - loss: 2.4553e-04 - accuracy: 0.9999 - val_loss: 0.0884 - val_accuracy: 0.9860 - 4s/epoch - 9ms/step\n",
      "313/313 [==============================] - 1s 2ms/step - loss: 0.0884 - accuracy: 0.9860\n"
     ]
    }
   ],
   "source": [
    "history = model.fit(xtrain, ytrain,\n",
    "                    batch_size = batch_size,\n",
    "                    epochs = epochs, verbose = 2, \n",
    "                    validation_data = (xtest, ytest))\n",
    "score = model.evaluate(xtest, ytest, verbose = 1)"
   ]
  },
  {
   "cell_type": "code",
   "execution_count": 45,
   "id": "a068366f",
   "metadata": {},
   "outputs": [
    {
     "name": "stdout",
     "output_type": "stream",
     "text": [
      "Test Loss:\t 0.0883968248963356\n",
      "Test Accuracy:\t 0.9860000014305115\n"
     ]
    }
   ],
   "source": [
    "print('Test Loss:\\t', score[0])\n",
    "print('Test Accuracy:\\t', score[1])"
   ]
  }
 ],
 "metadata": {
  "kernelspec": {
   "display_name": "Python 3 (ipykernel)",
   "language": "python",
   "name": "python3"
  },
  "language_info": {
   "codemirror_mode": {
    "name": "ipython",
    "version": 3
   },
   "file_extension": ".py",
   "mimetype": "text/x-python",
   "name": "python",
   "nbconvert_exporter": "python",
   "pygments_lexer": "ipython3",
   "version": "3.11.4"
  }
 },
 "nbformat": 4,
 "nbformat_minor": 5
}
